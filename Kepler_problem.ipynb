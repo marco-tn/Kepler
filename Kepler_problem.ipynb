{
 "cells": [
  {
   "cell_type": "code",
   "execution_count": 1,
   "metadata": {
    "collapsed": false
   },
   "outputs": [],
   "source": [
    "%plot gnuplot\n",
    "z0 = [1;0;0;0.5];\n",
    "t = linspace(0,10,1000);\n",
    "#\n",
    "function zdot = g(z,t)\n",
    "zdot(1)=z(2);\n",
    "zdot(2)=-z(1)/((z(1)^2+z(3)^2)^(3/2));\n",
    "zdot(3)=z(4);\n",
    "zdot(4)=-z(3)/((z(1)^2+z(3)^2)^(3/2));\n",
    "endfunction\n",
    "#\n",
    "z = lsode(\"g\",z0,t);\n",
    "x = z(:,1);\n",
    "y = z(:,3);\n",
    "#\n",
    "plot(x,y)"
   ]
  },
  {
   "cell_type": "markdown",
   "metadata": {},
   "source": [
    "![Image](https://github.com/marco-tn/Kepler_problem/tree/master/img/2dorbit-1.png)"
   ]
  },
  {
   "cell_type": "code",
   "execution_count": 2,
   "metadata": {
    "collapsed": true
   },
   "outputs": [],
   "source": [
    "%plot gnuplot\n",
    "z0 = [1;0;0;1.5];\n",
    "t = linspace(0,10,1000);\n",
    "#\n",
    "function zdot = g(z,t)\n",
    "zdot(1)=z(2);\n",
    "zdot(2)=-z(1)/((z(1)^2+z(3)^2)^(3/2));\n",
    "zdot(3)=z(4);\n",
    "zdot(4)=-z(3)/((z(1)^2+z(3)^2)^(3/2));\n",
    "endfunction\n",
    "#\n",
    "z = lsode(\"g\",z0,t);\n",
    "x = z(:,1);\n",
    "y = z(:,3);\n",
    "#\n",
    "plot(x,y)"
   ]
  },
  {
   "cell_type": "markdown",
   "metadata": {
    "collapsed": true
   },
   "source": [
    "<img src=\"./img/2dorbit-2.png\", width=1000, height=1000>"
   ]
  },
  {
   "cell_type": "code",
   "execution_count": 3,
   "metadata": {
    "collapsed": false
   },
   "outputs": [],
   "source": [
    "%plot gnuplot\n",
    "r0 = [1;0;0;1.1;0.5;0];\n",
    "t = linspace(0,360*pi,2000);\n",
    "\n",
    "#\n",
    "function rdot = g(r,t)\n",
    "R = (r(1)^2+r(3)^2+r(5)^2)^(1/2);\n",
    "a = 0.9;\n",
    "e = 0.9;\n",
    "rdot(1)=r(2);\n",
    "rdot(2)=-r(1)/(R^3)+(3*e*(a^2)*(r(5)^2)*r(1))/(R^7)-((3/5)*e*(a^2)*r(1))/(R^5);\n",
    "rdot(3)=r(4);\n",
    "rdot(4)=-r(3)/(R^3)+(3*e*(a^2)*(r(5)^2)*r(3))/(R^7)-((3/5)*e*(a^2)*r(3))/(R^5);\n",
    "rdot(5)=r(6);\n",
    "rdot(6)=-r(5)/(R^3)-(3/5)*a^2*e*((2*r(5))/R^5-(5*r(5)^3)/R^7)-((3/5)*e*(a^2)*r(5))/(R^5);\n",
    "endfunction\n",
    "#\n",
    "r = lsode(\"g\",r0,t);\n",
    "x = r(:,1);\n",
    "y = r(:,3);\n",
    "z = r(:,5);\n",
    "#\n",
    "plot3(x,y,z)"
   ]
  },
  {
   "cell_type": "markdown",
   "metadata": {},
   "source": [
    "<img src=\"img/3dorbit.png\", width=1000, height=1000>"
   ]
  },
  {
   "cell_type": "code",
   "execution_count": null,
   "metadata": {
    "collapsed": true
   },
   "outputs": [],
   "source": []
  }
 ],
 "metadata": {
  "kernelspec": {
   "display_name": "Octave",
   "language": "octave",
   "name": "octave"
  },
  "language_info": {
   "file_extension": ".m",
   "help_links": [
    {
     "text": "GNU Octave",
     "url": "https://www.gnu.org/software/octave/support.html"
    },
    {
     "text": "Octave Kernel",
     "url": "https://github.com/Calysto/octave_kernel"
    },
    {
     "text": "MetaKernel Magics",
     "url": "https://github.com/calysto/metakernel/blob/master/metakernel/magics/README.md"
    }
   ],
   "mimetype": "text/x-octave",
   "name": "octave",
   "version": "4.3.0+"
  }
 },
 "nbformat": 4,
 "nbformat_minor": 2
}
